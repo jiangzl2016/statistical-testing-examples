{
 "cells": [
  {
   "cell_type": "markdown",
   "metadata": {},
   "source": [
    "### Two-sided t-tests\n",
    "\n",
    "T-test involve the means of two independent samples of scores.\n",
    "\n",
    "This is a two-sided test with the null hypothesis that two independent samples have identical expected values. This test assumes that the populations have identical variances by default. More details are [here](https://en.wikipedia.org/wiki/Student%27s_t-test#Independent_two-sample_t-test).\n",
    "\n",
    "For samples with different variance, refer to [Welch's T-test](https://en.wikipedia.org/wiki/Welch%27s_t-test)."
   ]
  },
  {
   "cell_type": "code",
   "execution_count": 4,
   "metadata": {},
   "outputs": [],
   "source": [
    "from scipy import stats\n",
    "import numpy as np\n",
    "\n",
    "np.random.seed(46)"
   ]
  },
  {
   "cell_type": "markdown",
   "metadata": {},
   "source": [
    "#### Implement with scipy library"
   ]
  },
  {
   "cell_type": "code",
   "execution_count": 20,
   "metadata": {},
   "outputs": [
    {
     "data": {
      "text/plain": [
       "Ttest_indResult(statistic=-0.08135664525905334, pvalue=0.9351685148627957)"
      ]
     },
     "execution_count": 20,
     "metadata": {},
     "output_type": "execute_result"
    }
   ],
   "source": [
    "# T-test assumes two sample comes from normal distribution\n",
    "s1 = stats.norm.rvs(loc=100,scale=10,size=800)\n",
    "s2 = stats.norm.rvs(loc=100,scale=10,size=800)\n",
    "\n",
    "stats.ttest_ind(s1,s2)"
   ]
  },
  {
   "cell_type": "code",
   "execution_count": 21,
   "metadata": {},
   "outputs": [
    {
     "data": {
      "text/plain": [
       "Ttest_indResult(statistic=0.18577519012602514, pvalue=0.8526477285619974)"
      ]
     },
     "execution_count": 21,
     "metadata": {},
     "output_type": "execute_result"
    }
   ],
   "source": [
    "# Let's have a case where variance is different, or size is different.\n",
    "s3 = stats.norm.rvs(loc=100,scale=15,size=800)\n",
    "s4 = stats.norm.rvs(loc=100,scale=15,size=900)\n",
    "\n",
    "stats.ttest_ind(s1,s3, equal_var = False)"
   ]
  },
  {
   "cell_type": "code",
   "execution_count": 22,
   "metadata": {},
   "outputs": [
    {
     "data": {
      "text/plain": [
       "Ttest_indResult(statistic=0.7729981657989475, pvalue=0.43963779971856365)"
      ]
     },
     "execution_count": 22,
     "metadata": {},
     "output_type": "execute_result"
    }
   ],
   "source": [
    "stats.ttest_ind(s1,s4, equal_var = False)"
   ]
  },
  {
   "cell_type": "markdown",
   "metadata": {},
   "source": [
    "### Levene test\n",
    "\n",
    "Tests the null hypothesis that k independent samples are from populations with equal variance. It is also called test of homogenity of variance. \n",
    "\n",
    "$H_0:$ ${\\sigma}_1^2 = {\\sigma}_2^2 = ... = {\\sigma}_k^2$ <br>\n",
    "$H_a:$ At least a pair of (${\\sigma}_i^2$, ${\\sigma}_j^2$) is unequal\n",
    "\n",
    "Test statistics: <br>\n",
    "Let N be total numer of samples in k subgroups, $N_i$ be number of samples in each subgroup.\n",
    "\n",
    "$$W = \\frac{N-k}{k-1} \\frac{\\sum_{i=1}^k N_i(\\bar{Z_i}.-\\bar{Z..})^2}{\\sum_{i=1}^k \\sum_{j=1}^{N_i}(Z_{ij}-\\bar{Z_i.})^2}$$\n",
    "\n",
    "where $Z_{ij} = |Y_{ij} - \\bar{Y_{i.}}|$, where $\\bar{Y_{i.}}$ is mean of ith subgroup.<br>\n",
    "\n",
    "It is like a ratio between-sample variance and within-sample variance.<br>\n",
    "If strong assumption can be made about normality of data, then it is advised to use [Barlett test](https://www.itl.nist.gov/div898/handbook/eda/section3/eda357.htm)."
   ]
  },
  {
   "cell_type": "code",
   "execution_count": 8,
   "metadata": {},
   "outputs": [
    {
     "name": "stdout",
     "output_type": "stream",
     "text": [
      "0.3893547376663349\n"
     ]
    }
   ],
   "source": [
    "# Let's create two samples a and b that are from two separate population with the same variance, \n",
    "# and another sample c, with different variance \n",
    "a = stats.norm.rvs(loc=0,scale=10,size=100)\n",
    "b = stats.norm.rvs(loc=10,scale=10,size=100)\n",
    "c = stats.norm.rvs(loc=0,scale=30,size=100)\n",
    "\n",
    "stat, p = stats.levene(a, b)\n",
    "print(p)"
   ]
  },
  {
   "cell_type": "code",
   "execution_count": 9,
   "metadata": {},
   "outputs": [
    {
     "name": "stdout",
     "output_type": "stream",
     "text": [
      "7.027152470153796e-14\n"
     ]
    }
   ],
   "source": [
    "stat, p = stats.levene(b, c)\n",
    "print(p)"
   ]
  },
  {
   "cell_type": "code",
   "execution_count": 10,
   "metadata": {},
   "outputs": [
    {
     "data": {
      "text/plain": [
       "[110.17941157100952, 113.87984456169812, 1071.0150891672524]"
      ]
     },
     "execution_count": 10,
     "metadata": {},
     "output_type": "execute_result"
    }
   ],
   "source": [
    "[np.var(x, ddof=1) for x in [a, b, c]]"
   ]
  },
  {
   "cell_type": "code",
   "execution_count": null,
   "metadata": {},
   "outputs": [],
   "source": []
  }
 ],
 "metadata": {
  "kernelspec": {
   "display_name": "Python 3",
   "language": "python",
   "name": "python3"
  },
  "language_info": {
   "codemirror_mode": {
    "name": "ipython",
    "version": 3
   },
   "file_extension": ".py",
   "mimetype": "text/x-python",
   "name": "python",
   "nbconvert_exporter": "python",
   "pygments_lexer": "ipython3",
   "version": "3.7.4"
  }
 },
 "nbformat": 4,
 "nbformat_minor": 2
}
