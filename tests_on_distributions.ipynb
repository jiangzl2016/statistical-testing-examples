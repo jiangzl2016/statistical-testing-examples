{
 "cells": [
  {
   "cell_type": "markdown",
   "metadata": {},
   "source": [
    "<script src=\"https://polyfill.io/v3/polyfill.min.js?features=es6\"></script>\n",
    "<script id=\"MathJax-script\" async src=\"https://cdn.jsdelivr.net/npm/mathjax@3/es5/tex-mml-chtml.js\"></script>\n",
    "\n",
    "### Kolmogorov-Smirnov test\n",
    "\n",
    "Test the null hypothesis that two independent smaples are drawn from the same distribution. It is a nonparametric test. It works by comparing the **emperical distribution functions (EDF)** of two samples. [Reference](http://www.stats.ox.ac.uk/~massa/Lecture%2013.pdf). \n",
    "\n",
    "\n",
    "$F(x) = \\frac{\\# \\ observations\\ below \\ x}{\\# \\ observations}$ - Empirical distribution function\n",
    "\n",
    "In its original form, we compare the EDF of data $F_{obs}$ with the expected CDF of null distribution, $F_{exp}$: <br>\n",
    "$D_{n} = max_{x}|F_{exp}(x) − F_{obs}(x)|$\n",
    "\n",
    "In 2-sample KS test, the statistic becomes: <br>\n",
    "$D_{m, n} = max_{x}|F_{1, n}(x) − F_{2, m}(x)|$\n",
    "\n",
    "Critical value\n",
    "$D_{crit} = c(\\alpha) * \\sqrt{\\frac{n + m}{n * m}}$ If $D_{m, n}$ > $D_{crit}$, then reject the null hypothesis.\n",
    "[Reference](https://en.wikipedia.org/wiki/Kolmogorov%E2%80%93Smirnov_test)"
   ]
  },
  {
   "cell_type": "code",
   "execution_count": 9,
   "metadata": {},
   "outputs": [],
   "source": [
    "from scipy import stats\n",
    "import numpy as np"
   ]
  },
  {
   "cell_type": "code",
   "execution_count": 10,
   "metadata": {},
   "outputs": [
    {
     "data": {
      "text/plain": [
       "Ks_2sampResult(statistic=0.19, pvalue=0.0003047192071684579)"
      ]
     },
     "execution_count": 10,
     "metadata": {},
     "output_type": "execute_result"
    }
   ],
   "source": [
    "# For a different distribution, we reject the null hypothesis since the pvalue is below 1%:\n",
    "np.random.seed(46)\n",
    "\n",
    "n1 = 200\n",
    "n2 = 300  \n",
    "\n",
    "s1 = stats.norm.rvs(size=n1, loc=0., scale=1)\n",
    "s2 = stats.norm.rvs(size=n2, loc=0.5, scale=1.5)\n",
    "\n",
    "stats.ks_2samp(s1, s2)"
   ]
  },
  {
   "cell_type": "code",
   "execution_count": 11,
   "metadata": {},
   "outputs": [
    {
     "data": {
      "text/plain": [
       "Ks_2sampResult(statistic=0.08166666666666667, pvalue=0.38607884035069273)"
      ]
     },
     "execution_count": 11,
     "metadata": {},
     "output_type": "execute_result"
    }
   ],
   "source": [
    "# For a slightly different distribution, we cannot reject the null hypothesis at a 10% or lower alpha since the p-value at 0.38 is higher than 10%\n",
    "s3 = stats.norm.rvs(size=n2, loc=0.01, scale=1.0)\n",
    "stats.ks_2samp(s1, s3)"
   ]
  },
  {
   "cell_type": "code",
   "execution_count": 12,
   "metadata": {},
   "outputs": [
    {
     "data": {
      "text/plain": [
       "Ks_2sampResult(statistic=0.09166666666666666, pvalue=0.25476533491263986)"
      ]
     },
     "execution_count": 12,
     "metadata": {},
     "output_type": "execute_result"
    }
   ],
   "source": [
    "# For an identical distribution, we cannot reject the null hypothesis since the p-value is high.\n",
    "s4 = stats.norm.rvs(size=n2, loc=0.0, scale=1.0)\n",
    "stats.ks_2samp(s1, s4)"
   ]
  },
  {
   "cell_type": "markdown",
   "metadata": {},
   "source": [
    "### Mann-Whitney U test\n",
    "\n",
    "The test is used to investigate whether two independent samples were selected from populations having the same distribution. It is a nonparametric test - null hypothesis: it is equally likely that a randomly selected value from on population will be less than or greater than a randomly selected value from a second population."
   ]
  },
  {
   "cell_type": "code",
   "execution_count": null,
   "metadata": {},
   "outputs": [],
   "source": []
  }
 ],
 "metadata": {
  "kernelspec": {
   "display_name": "Python 3",
   "language": "python",
   "name": "python3"
  },
  "language_info": {
   "codemirror_mode": {
    "name": "ipython",
    "version": 3
   },
   "file_extension": ".py",
   "mimetype": "text/x-python",
   "name": "python",
   "nbconvert_exporter": "python",
   "pygments_lexer": "ipython3",
   "version": "3.7.4"
  }
 },
 "nbformat": 4,
 "nbformat_minor": 2
}
