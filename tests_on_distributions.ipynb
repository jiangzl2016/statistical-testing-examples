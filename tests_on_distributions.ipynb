{
 "cells": [
  {
   "cell_type": "markdown",
   "metadata": {},
   "source": [
    "### Kolmogorov-Smirnov test\n",
    "\n",
    "Test the null hypothesis that two independent smaples are drawn from the same distribution. It is a nonparametric test. It works by comparing the **emperical distribution functions (EDF)** of two samples. [Reference](http://www.stats.ox.ac.uk/~massa/Lecture%2013.pdf). \n",
    "\n",
    "Empirical distribution function definition:\n",
    "\n",
    "$$F(x) = \\frac{\\# \\ observations\\ below \\ x}{\\# \\ observations}$$ \n",
    "\n",
    "In its original form, we compare the EDF of data $F_{obs}$ with the expected CDF of null distribution, $F_{exp}$: <br>\n",
    "$$D_{n} = max_{x}|F_{exp}(x) − F_{obs}(x)|$$\n",
    "\n",
    "In 2-sample KS test, the statistic becomes: <br>\n",
    "$$D_{m, n} = max_{x}|F_{1, n}(x) − F_{2, m}(x)|$$\n",
    "\n",
    "Critical value\n",
    "$D_{crit} = c(\\alpha) * \\sqrt{\\frac{n + m}{n * m}}$ If $D_{m, n}$ > $D_{crit}$, then reject the null hypothesis.\n",
    "[Reference](https://en.wikipedia.org/wiki/Kolmogorov%E2%80%93Smirnov_test)"
   ]
  },
  {
   "cell_type": "code",
   "execution_count": 3,
   "metadata": {},
   "outputs": [],
   "source": [
    "from scipy import stats\n",
    "import numpy as np"
   ]
  },
  {
   "cell_type": "code",
   "execution_count": 10,
   "metadata": {},
   "outputs": [
    {
     "data": {
      "text/plain": [
       "Ks_2sampResult(statistic=0.19, pvalue=0.0003047192071684579)"
      ]
     },
     "execution_count": 10,
     "metadata": {},
     "output_type": "execute_result"
    }
   ],
   "source": [
    "# For a different distribution, we reject the null hypothesis since the pvalue is below 1%:\n",
    "np.random.seed(46)\n",
    "\n",
    "n1 = 200\n",
    "n2 = 300  \n",
    "\n",
    "s1 = stats.norm.rvs(size=n1, loc=0., scale=1)\n",
    "s2 = stats.norm.rvs(size=n2, loc=0.5, scale=1.5)\n",
    "\n",
    "stats.ks_2samp(s1, s2)"
   ]
  },
  {
   "cell_type": "code",
   "execution_count": 11,
   "metadata": {},
   "outputs": [
    {
     "data": {
      "text/plain": [
       "Ks_2sampResult(statistic=0.08166666666666667, pvalue=0.38607884035069273)"
      ]
     },
     "execution_count": 11,
     "metadata": {},
     "output_type": "execute_result"
    }
   ],
   "source": [
    "# For a slightly different distribution, we cannot reject the null hypothesis at a 10% or lower alpha since the p-value at 0.38 is higher than 10%\n",
    "s3 = stats.norm.rvs(size=n2, loc=0.01, scale=1.0)\n",
    "stats.ks_2samp(s1, s3)"
   ]
  },
  {
   "cell_type": "code",
   "execution_count": 12,
   "metadata": {},
   "outputs": [
    {
     "data": {
      "text/plain": [
       "Ks_2sampResult(statistic=0.09166666666666666, pvalue=0.25476533491263986)"
      ]
     },
     "execution_count": 12,
     "metadata": {},
     "output_type": "execute_result"
    }
   ],
   "source": [
    "# For an identical distribution, we cannot reject the null hypothesis since the p-value is high.\n",
    "s4 = stats.norm.rvs(size=n2, loc=0.0, scale=1.0)\n",
    "stats.ks_2samp(s1, s4)"
   ]
  },
  {
   "cell_type": "markdown",
   "metadata": {},
   "source": [
    "### Mann-Whitney U test\n",
    "\n",
    "The test is used to investigate whether two independent samples were selected from populations having the same distribution. It is a nonparametric test - null hypothesis: it is equally likely that a randomly selected value from one population will be less than or greater than a randomly selected value from a second population. [Example](http://sphweb.bumc.bu.edu/otlt/mph-modules/bs/bs704_nonparametric/BS704_Nonparametric4.html).\n",
    "\n",
    "$H_0:$ Two distributions are equal <br>(OR \n",
    "       It is equally likely that a randomly selected value from population 1 will be less than or greater than a randomly selected value from population 2)<br>\n",
    "$H_a:$ Two distributions are not equal\n",
    "\n",
    "How the test works: <br>\n",
    "1. Assign ranks to all observations after putting two groups of observations together. The rank start with 1, for the smallest value. Where there are groups of tied values, assign a rank equal to the midpoint of unadjusted rankings. E.g., the ranks of (3, 5, 5, 5, 5, 8) are (1, 3.5, 3.5, 3.5, 3.5, 6)\n",
    "2. Add up ranks for the observations which come from sample 1 and sample 2.\n",
    "3. Test statistics U is equal to: <br>\n",
    "$$U_1 = R_1 - \\frac{n_1 * (n_1 + 1)}{2}$$\n",
    "where n1 is the sample size for sample 1, and R1 is the sum of the ranks in sample 1.\n",
    "or\n",
    "$$U_2 = R_2 - \\frac{n_2 * (n_2 + 1)}{2}$$\n",
    "and $min(U1, U2)$ is used when checking with significance table.\n",
    "\n",
    "A faster way to calculate U1 is to count, for each observation in group 1, that how many observations in group 2 are **beaten** by it and sum these values. Tie counts for 0.5."
   ]
  },
  {
   "cell_type": "code",
   "execution_count": 7,
   "metadata": {},
   "outputs": [
    {
     "name": "stdout",
     "output_type": "stream",
     "text": [
      "Median latencies in groups 1 and 2 were 0.500583703759719 and 0.5238355448338927;    the distributions in the two groups does not differ significantly    (Mann–Whitney U = 4866.0, n1 = n2 = 100, P = 0.37213938935134794 two-tailed).\n"
     ]
    }
   ],
   "source": [
    "n1 = 100\n",
    "n2 = 100\n",
    "\n",
    "s1 = stats.norm.rvs(size=n1, loc=0.5, scale=1)\n",
    "s2 = stats.norm.rvs(size=n2, loc=0.5, scale=1)\n",
    "\n",
    "# Calculate u and probability of a difference\n",
    "u_statistic, pVal = stats.mannwhitneyu(s1, s2)\n",
    "\n",
    "# Report\n",
    "m1, m2 = np.median(s1), np.median(s2)\n",
    "print(f\"Median latencies in groups 1 and 2 were {m1} and {m2};\\\n",
    "    the distributions in the two groups does not differ significantly\\\n",
    "    (Mann–Whitney U = {u_statistic}, n1 = n2 = {n1}, P = {pVal} two-tailed).\")\n"
   ]
  },
  {
   "cell_type": "code",
   "execution_count": null,
   "metadata": {},
   "outputs": [],
   "source": []
  }
 ],
 "metadata": {
  "kernelspec": {
   "display_name": "Python 3",
   "language": "python",
   "name": "python3"
  },
  "language_info": {
   "codemirror_mode": {
    "name": "ipython",
    "version": 3
   },
   "file_extension": ".py",
   "mimetype": "text/x-python",
   "name": "python",
   "nbconvert_exporter": "python",
   "pygments_lexer": "ipython3",
   "version": "3.7.4"
  }
 },
 "nbformat": 4,
 "nbformat_minor": 2
}
